{
 "cells": [
  {
   "cell_type": "code",
   "execution_count": 16,
   "metadata": {},
   "outputs": [],
   "source": [
    "import pandas as pd\n",
    "import numpy as np"
   ]
  },
  {
   "cell_type": "markdown",
   "metadata": {},
   "source": [
    "## Load the file"
   ]
  },
  {
   "cell_type": "code",
   "execution_count": 17,
   "metadata": {},
   "outputs": [
    {
     "data": {
      "text/html": [
       "<div>\n",
       "<style scoped>\n",
       "    .dataframe tbody tr th:only-of-type {\n",
       "        vertical-align: middle;\n",
       "    }\n",
       "\n",
       "    .dataframe tbody tr th {\n",
       "        vertical-align: top;\n",
       "    }\n",
       "\n",
       "    .dataframe thead th {\n",
       "        text-align: right;\n",
       "    }\n",
       "</style>\n",
       "<table border=\"1\" class=\"dataframe\">\n",
       "  <thead>\n",
       "    <tr style=\"text-align: right;\">\n",
       "      <th></th>\n",
       "      <th>Student ID #</th>\n",
       "      <th>School</th>\n",
       "      <th>2017-2018 Grade</th>\n",
       "      <th>2017-2018 Lunch Status</th>\n",
       "      <th>2017-2018 SPED</th>\n",
       "      <th>2017-2018 BRtS Scholars</th>\n",
       "      <th>2017-2018 S44</th>\n",
       "      <th>2017-2018 Parcc ELA</th>\n",
       "      <th>PARCC 2016-2017 ELA SGP Score</th>\n",
       "      <th>PARCC 2016-2017 ELA SGP Growth Level</th>\n",
       "      <th>...</th>\n",
       "      <th>2017-2018 Math GLE Cycle 1</th>\n",
       "      <th>2017-2018 Math Student (individual) goal</th>\n",
       "      <th>2017-2018 Math ON/OFF Track Cycle 1</th>\n",
       "      <th>2017-2018 Math Cycle 1 GOAL</th>\n",
       "      <th>2017-2018 Math NWEA PARCC Prediction Cycle 1</th>\n",
       "      <th>2017-2018 Math Cycle 2</th>\n",
       "      <th>2017-2018 Math GLE Cycle 2</th>\n",
       "      <th>2017-2018 Math NWEA PARCC Prediction Cycle 2</th>\n",
       "      <th>2017-2018 Math ON/OFF Track Cycle 2</th>\n",
       "      <th>2017-2018 Math Cycle 2 GOAL</th>\n",
       "    </tr>\n",
       "  </thead>\n",
       "  <tbody>\n",
       "    <tr>\n",
       "      <th>0</th>\n",
       "      <td>170</td>\n",
       "      <td>School A</td>\n",
       "      <td>3</td>\n",
       "      <td>F</td>\n",
       "      <td>NaN</td>\n",
       "      <td>NaN</td>\n",
       "      <td>NaN</td>\n",
       "      <td>NaN</td>\n",
       "      <td>NaN</td>\n",
       "      <td>NaN</td>\n",
       "      <td>...</td>\n",
       "      <td>NaN</td>\n",
       "      <td>NaN</td>\n",
       "      <td>NaN</td>\n",
       "      <td>NaN</td>\n",
       "      <td>NaN</td>\n",
       "      <td>191.0</td>\n",
       "      <td>3.0</td>\n",
       "      <td>Level 2</td>\n",
       "      <td>Below</td>\n",
       "      <td>198.2</td>\n",
       "    </tr>\n",
       "    <tr>\n",
       "      <th>1</th>\n",
       "      <td>171</td>\n",
       "      <td>School A</td>\n",
       "      <td>3</td>\n",
       "      <td>F</td>\n",
       "      <td>NaN</td>\n",
       "      <td>NaN</td>\n",
       "      <td>NaN</td>\n",
       "      <td>NaN</td>\n",
       "      <td>NaN</td>\n",
       "      <td>NaN</td>\n",
       "      <td>...</td>\n",
       "      <td>1.0</td>\n",
       "      <td>178.0</td>\n",
       "      <td>Significantly Below</td>\n",
       "      <td>190.4</td>\n",
       "      <td>Level 1</td>\n",
       "      <td>173.0</td>\n",
       "      <td>1.0</td>\n",
       "      <td>Level 1</td>\n",
       "      <td>Significantly Below</td>\n",
       "      <td>198.2</td>\n",
       "    </tr>\n",
       "    <tr>\n",
       "      <th>2</th>\n",
       "      <td>172</td>\n",
       "      <td>School A</td>\n",
       "      <td>3</td>\n",
       "      <td>F</td>\n",
       "      <td>NaN</td>\n",
       "      <td>NaN</td>\n",
       "      <td>NaN</td>\n",
       "      <td>NaN</td>\n",
       "      <td>NaN</td>\n",
       "      <td>NaN</td>\n",
       "      <td>...</td>\n",
       "      <td>2.5</td>\n",
       "      <td>197.0</td>\n",
       "      <td>Cusp</td>\n",
       "      <td>190.4</td>\n",
       "      <td>Level 3</td>\n",
       "      <td>188.0</td>\n",
       "      <td>2.5</td>\n",
       "      <td>Level 2</td>\n",
       "      <td>Below</td>\n",
       "      <td>198.2</td>\n",
       "    </tr>\n",
       "    <tr>\n",
       "      <th>3</th>\n",
       "      <td>173</td>\n",
       "      <td>School A</td>\n",
       "      <td>3</td>\n",
       "      <td>F</td>\n",
       "      <td>NaN</td>\n",
       "      <td>NaN</td>\n",
       "      <td>NaN</td>\n",
       "      <td>NaN</td>\n",
       "      <td>NaN</td>\n",
       "      <td>NaN</td>\n",
       "      <td>...</td>\n",
       "      <td>2.0</td>\n",
       "      <td>188.0</td>\n",
       "      <td>Below</td>\n",
       "      <td>190.4</td>\n",
       "      <td>Level 2</td>\n",
       "      <td>174.0</td>\n",
       "      <td>1.5</td>\n",
       "      <td>Level 1</td>\n",
       "      <td>Significantly Below</td>\n",
       "      <td>198.2</td>\n",
       "    </tr>\n",
       "    <tr>\n",
       "      <th>4</th>\n",
       "      <td>174</td>\n",
       "      <td>School A</td>\n",
       "      <td>3</td>\n",
       "      <td>F</td>\n",
       "      <td>NaN</td>\n",
       "      <td>NaN</td>\n",
       "      <td>NaN</td>\n",
       "      <td>NaN</td>\n",
       "      <td>NaN</td>\n",
       "      <td>NaN</td>\n",
       "      <td>...</td>\n",
       "      <td>2.0</td>\n",
       "      <td>191.0</td>\n",
       "      <td>Below</td>\n",
       "      <td>190.4</td>\n",
       "      <td>Level 2</td>\n",
       "      <td>180.0</td>\n",
       "      <td>2.0</td>\n",
       "      <td>Level 1</td>\n",
       "      <td>Significantly Below</td>\n",
       "      <td>198.2</td>\n",
       "    </tr>\n",
       "  </tbody>\n",
       "</table>\n",
       "<p>5 rows × 66 columns</p>\n",
       "</div>"
      ],
      "text/plain": [
       "   Student ID #    School  2017-2018 Grade 2017-2018 Lunch Status   \\\n",
       "0           170  School A                3                       F   \n",
       "1           171  School A                3                       F   \n",
       "2           172  School A                3                       F   \n",
       "3           173  School A                3                       F   \n",
       "4           174  School A                3                       F   \n",
       "\n",
       "  2017-2018 SPED 2017-2018 BRtS Scholars  2017-2018 S44  2017-2018 Parcc ELA  \\\n",
       "0            NaN                     NaN            NaN                  NaN   \n",
       "1            NaN                     NaN            NaN                  NaN   \n",
       "2            NaN                     NaN            NaN                  NaN   \n",
       "3            NaN                     NaN            NaN                  NaN   \n",
       "4            NaN                     NaN            NaN                  NaN   \n",
       "\n",
       "   PARCC 2016-2017 ELA SGP Score PARCC 2016-2017 ELA SGP Growth Level  ...  \\\n",
       "0                            NaN                                  NaN  ...   \n",
       "1                            NaN                                  NaN  ...   \n",
       "2                            NaN                                  NaN  ...   \n",
       "3                            NaN                                  NaN  ...   \n",
       "4                            NaN                                  NaN  ...   \n",
       "\n",
       "   2017-2018 Math GLE Cycle 1 2017-2018 Math Student (individual) goal  \\\n",
       "0                         NaN                                      NaN   \n",
       "1                         1.0                                    178.0   \n",
       "2                         2.5                                    197.0   \n",
       "3                         2.0                                    188.0   \n",
       "4                         2.0                                    191.0   \n",
       "\n",
       "   2017-2018 Math ON/OFF Track Cycle 1 2017-2018 Math Cycle 1 GOAL  \\\n",
       "0                                  NaN                         NaN   \n",
       "1                  Significantly Below                       190.4   \n",
       "2                                 Cusp                       190.4   \n",
       "3                                Below                       190.4   \n",
       "4                                Below                       190.4   \n",
       "\n",
       "   2017-2018 Math NWEA PARCC Prediction Cycle 1 2017-2018 Math Cycle 2  \\\n",
       "0                                           NaN                  191.0   \n",
       "1                                       Level 1                  173.0   \n",
       "2                                       Level 3                  188.0   \n",
       "3                                       Level 2                  174.0   \n",
       "4                                       Level 2                  180.0   \n",
       "\n",
       "   2017-2018 Math GLE Cycle 2 2017-2018 Math NWEA PARCC Prediction Cycle 2  \\\n",
       "0                         3.0                                      Level 2   \n",
       "1                         1.0                                      Level 1   \n",
       "2                         2.5                                      Level 2   \n",
       "3                         1.5                                      Level 1   \n",
       "4                         2.0                                      Level 1   \n",
       "\n",
       "   2017-2018 Math ON/OFF Track Cycle 2  2017-2018 Math Cycle 2 GOAL  \n",
       "0                                Below                        198.2  \n",
       "1                  Significantly Below                        198.2  \n",
       "2                                Below                        198.2  \n",
       "3                  Significantly Below                        198.2  \n",
       "4                  Significantly Below                        198.2  \n",
       "\n",
       "[5 rows x 66 columns]"
      ]
     },
     "execution_count": 17,
     "metadata": {},
     "output_type": "execute_result"
    }
   ],
   "source": [
    "df_all = pd.read_excel(r'C:\\Users\\defoe\\BRICK\\BRICK_Evaluation_Material.xlsx',skipinitialspace=True)\n",
    "df_all.head()"
   ]
  },
  {
   "cell_type": "markdown",
   "metadata": {},
   "source": [
    "## Select desired columns with PARCC levels and NWEA PARCC levels. \n",
    "#### Subjects: Math & ELA "
   ]
  },
  {
   "cell_type": "code",
   "execution_count": 18,
   "metadata": {},
   "outputs": [
    {
     "data": {
      "text/html": [
       "<div>\n",
       "<style scoped>\n",
       "    .dataframe tbody tr th:only-of-type {\n",
       "        vertical-align: middle;\n",
       "    }\n",
       "\n",
       "    .dataframe tbody tr th {\n",
       "        vertical-align: top;\n",
       "    }\n",
       "\n",
       "    .dataframe thead th {\n",
       "        text-align: right;\n",
       "    }\n",
       "</style>\n",
       "<table border=\"1\" class=\"dataframe\">\n",
       "  <thead>\n",
       "    <tr style=\"text-align: right;\">\n",
       "      <th></th>\n",
       "      <th>2017-2018 Interim 1 ELA PARCC</th>\n",
       "      <th>2017-2018 Interim 2 ELA PARCC</th>\n",
       "      <th>2017-2018 Interim 1 Math PARCC</th>\n",
       "      <th>2017-2018 Interim 2 Math PARCC</th>\n",
       "      <th>2017-2018 ELA Literacy NWEA PARCC Prediction Cycle 1</th>\n",
       "      <th>2017-2018 ELA Literacy NWEA PARCC Prediction Cycle 2</th>\n",
       "      <th>2017-2018 Math NWEA PARCC Prediction Cycle 1</th>\n",
       "      <th>2017-2018 Math NWEA PARCC Prediction Cycle 2</th>\n",
       "    </tr>\n",
       "  </thead>\n",
       "  <tbody>\n",
       "    <tr>\n",
       "      <th>0</th>\n",
       "      <td>NaN</td>\n",
       "      <td>Partially Meets</td>\n",
       "      <td>NaN</td>\n",
       "      <td>Partially Meets</td>\n",
       "      <td>NaN</td>\n",
       "      <td>Level 1</td>\n",
       "      <td>NaN</td>\n",
       "      <td>Level 2</td>\n",
       "    </tr>\n",
       "    <tr>\n",
       "      <th>1</th>\n",
       "      <td>Partially Meets</td>\n",
       "      <td>Approaching</td>\n",
       "      <td>Partially Meets</td>\n",
       "      <td>Partially Meets</td>\n",
       "      <td>Level 2</td>\n",
       "      <td>Level 2</td>\n",
       "      <td>Level 1</td>\n",
       "      <td>Level 1</td>\n",
       "    </tr>\n",
       "    <tr>\n",
       "      <th>2</th>\n",
       "      <td>Meets</td>\n",
       "      <td>Approaching</td>\n",
       "      <td>Approaching</td>\n",
       "      <td>Partially Meets</td>\n",
       "      <td>Level 2</td>\n",
       "      <td>Level 2</td>\n",
       "      <td>Level 3</td>\n",
       "      <td>Level 2</td>\n",
       "    </tr>\n",
       "    <tr>\n",
       "      <th>3</th>\n",
       "      <td>Not Met</td>\n",
       "      <td>Partially Meets</td>\n",
       "      <td>Not Met</td>\n",
       "      <td>Partially Meets</td>\n",
       "      <td>Level 2</td>\n",
       "      <td>Level 1</td>\n",
       "      <td>Level 2</td>\n",
       "      <td>Level 1</td>\n",
       "    </tr>\n",
       "    <tr>\n",
       "      <th>4</th>\n",
       "      <td>Partially Meets</td>\n",
       "      <td>Approaching</td>\n",
       "      <td>Not Met</td>\n",
       "      <td>Approaching</td>\n",
       "      <td>Level 2</td>\n",
       "      <td>Level 1</td>\n",
       "      <td>Level 2</td>\n",
       "      <td>Level 1</td>\n",
       "    </tr>\n",
       "  </tbody>\n",
       "</table>\n",
       "</div>"
      ],
      "text/plain": [
       "  2017-2018 Interim 1 ELA PARCC  2017-2018 Interim 2 ELA PARCC  \\\n",
       "0                            NaN               Partially Meets   \n",
       "1                Partially Meets                   Approaching   \n",
       "2                          Meets                   Approaching   \n",
       "3                        Not Met               Partially Meets   \n",
       "4                Partially Meets                   Approaching   \n",
       "\n",
       "  2017-2018 Interim 1 Math PARCC 2017-2018 Interim 2 Math PARCC   \\\n",
       "0                            NaN                 Partially Meets   \n",
       "1                Partially Meets                 Partially Meets   \n",
       "2                    Approaching                 Partially Meets   \n",
       "3                        Not Met                 Partially Meets   \n",
       "4                        Not Met                     Approaching   \n",
       "\n",
       "  2017-2018 ELA Literacy NWEA PARCC Prediction Cycle 1  \\\n",
       "0                                                NaN     \n",
       "1                                            Level 2     \n",
       "2                                            Level 2     \n",
       "3                                            Level 2     \n",
       "4                                            Level 2     \n",
       "\n",
       "  2017-2018 ELA Literacy NWEA PARCC Prediction Cycle 2  \\\n",
       "0                                            Level 1     \n",
       "1                                            Level 2     \n",
       "2                                            Level 2     \n",
       "3                                            Level 1     \n",
       "4                                            Level 1     \n",
       "\n",
       "  2017-2018 Math NWEA PARCC Prediction Cycle 1  \\\n",
       "0                                          NaN   \n",
       "1                                      Level 1   \n",
       "2                                      Level 3   \n",
       "3                                      Level 2   \n",
       "4                                      Level 2   \n",
       "\n",
       "  2017-2018 Math NWEA PARCC Prediction Cycle 2  \n",
       "0                                      Level 2  \n",
       "1                                      Level 1  \n",
       "2                                      Level 2  \n",
       "3                                      Level 1  \n",
       "4                                      Level 1  "
      ]
     },
     "execution_count": 18,
     "metadata": {},
     "output_type": "execute_result"
    }
   ],
   "source": [
    "df_raw = df_all[['2017-2018 Interim 1 ELA PARCC ','2017-2018 Interim 2 ELA PARCC',\n",
    "             '2017-2018 Interim 1 Math PARCC','2017-2018 Interim 2 Math PARCC ',\n",
    "             '2017-2018 ELA Literacy NWEA PARCC Prediction Cycle 1','2017-2018 ELA Literacy NWEA PARCC Prediction Cycle 2',\n",
    "             '2017-2018 Math NWEA PARCC Prediction Cycle 1','2017-2018 Math NWEA PARCC Prediction Cycle 2']]\n",
    "df_raw.head()"
   ]
  },
  {
   "cell_type": "code",
   "execution_count": 19,
   "metadata": {},
   "outputs": [
    {
     "data": {
      "text/html": [
       "<div>\n",
       "<style scoped>\n",
       "    .dataframe tbody tr th:only-of-type {\n",
       "        vertical-align: middle;\n",
       "    }\n",
       "\n",
       "    .dataframe tbody tr th {\n",
       "        vertical-align: top;\n",
       "    }\n",
       "\n",
       "    .dataframe thead th {\n",
       "        text-align: right;\n",
       "    }\n",
       "</style>\n",
       "<table border=\"1\" class=\"dataframe\">\n",
       "  <thead>\n",
       "    <tr style=\"text-align: right;\">\n",
       "      <th></th>\n",
       "      <th>2017-2018 Interim 1 ELA PARCC</th>\n",
       "      <th>2017-2018 Interim 2 ELA PARCC</th>\n",
       "      <th>2017-2018 Interim 1 Math PARCC</th>\n",
       "      <th>2017-2018 Interim 2 Math PARCC</th>\n",
       "      <th>2017-2018 ELA Literacy NWEA PARCC Prediction Cycle 1</th>\n",
       "      <th>2017-2018 ELA Literacy NWEA PARCC Prediction Cycle 2</th>\n",
       "      <th>2017-2018 Math NWEA PARCC Prediction Cycle 1</th>\n",
       "      <th>2017-2018 Math NWEA PARCC Prediction Cycle 2</th>\n",
       "    </tr>\n",
       "  </thead>\n",
       "  <tbody>\n",
       "    <tr>\n",
       "      <th>1</th>\n",
       "      <td>Partially Meets</td>\n",
       "      <td>Approaching</td>\n",
       "      <td>Partially Meets</td>\n",
       "      <td>Partially Meets</td>\n",
       "      <td>Level 2</td>\n",
       "      <td>Level 2</td>\n",
       "      <td>Level 1</td>\n",
       "      <td>Level 1</td>\n",
       "    </tr>\n",
       "    <tr>\n",
       "      <th>2</th>\n",
       "      <td>Meets</td>\n",
       "      <td>Approaching</td>\n",
       "      <td>Approaching</td>\n",
       "      <td>Partially Meets</td>\n",
       "      <td>Level 2</td>\n",
       "      <td>Level 2</td>\n",
       "      <td>Level 3</td>\n",
       "      <td>Level 2</td>\n",
       "    </tr>\n",
       "    <tr>\n",
       "      <th>3</th>\n",
       "      <td>Not Met</td>\n",
       "      <td>Partially Meets</td>\n",
       "      <td>Not Met</td>\n",
       "      <td>Partially Meets</td>\n",
       "      <td>Level 2</td>\n",
       "      <td>Level 1</td>\n",
       "      <td>Level 2</td>\n",
       "      <td>Level 1</td>\n",
       "    </tr>\n",
       "    <tr>\n",
       "      <th>4</th>\n",
       "      <td>Partially Meets</td>\n",
       "      <td>Approaching</td>\n",
       "      <td>Not Met</td>\n",
       "      <td>Approaching</td>\n",
       "      <td>Level 2</td>\n",
       "      <td>Level 1</td>\n",
       "      <td>Level 2</td>\n",
       "      <td>Level 1</td>\n",
       "    </tr>\n",
       "    <tr>\n",
       "      <th>5</th>\n",
       "      <td>Approaching</td>\n",
       "      <td>Approaching</td>\n",
       "      <td>Not Met</td>\n",
       "      <td>Partially Meets</td>\n",
       "      <td>Level 3</td>\n",
       "      <td>Level 4</td>\n",
       "      <td>Level 3</td>\n",
       "      <td>Level 3</td>\n",
       "    </tr>\n",
       "  </tbody>\n",
       "</table>\n",
       "</div>"
      ],
      "text/plain": [
       "  2017-2018 Interim 1 ELA PARCC  2017-2018 Interim 2 ELA PARCC  \\\n",
       "1                Partially Meets                   Approaching   \n",
       "2                          Meets                   Approaching   \n",
       "3                        Not Met               Partially Meets   \n",
       "4                Partially Meets                   Approaching   \n",
       "5                    Approaching                   Approaching   \n",
       "\n",
       "  2017-2018 Interim 1 Math PARCC 2017-2018 Interim 2 Math PARCC   \\\n",
       "1                Partially Meets                 Partially Meets   \n",
       "2                    Approaching                 Partially Meets   \n",
       "3                        Not Met                 Partially Meets   \n",
       "4                        Not Met                     Approaching   \n",
       "5                        Not Met                 Partially Meets   \n",
       "\n",
       "  2017-2018 ELA Literacy NWEA PARCC Prediction Cycle 1  \\\n",
       "1                                            Level 2     \n",
       "2                                            Level 2     \n",
       "3                                            Level 2     \n",
       "4                                            Level 2     \n",
       "5                                            Level 3     \n",
       "\n",
       "  2017-2018 ELA Literacy NWEA PARCC Prediction Cycle 2  \\\n",
       "1                                            Level 2     \n",
       "2                                            Level 2     \n",
       "3                                            Level 1     \n",
       "4                                            Level 1     \n",
       "5                                            Level 4     \n",
       "\n",
       "  2017-2018 Math NWEA PARCC Prediction Cycle 1  \\\n",
       "1                                      Level 1   \n",
       "2                                      Level 3   \n",
       "3                                      Level 2   \n",
       "4                                      Level 2   \n",
       "5                                      Level 3   \n",
       "\n",
       "  2017-2018 Math NWEA PARCC Prediction Cycle 2  \n",
       "1                                      Level 1  \n",
       "2                                      Level 2  \n",
       "3                                      Level 1  \n",
       "4                                      Level 1  \n",
       "5                                      Level 3  "
      ]
     },
     "execution_count": 19,
     "metadata": {},
     "output_type": "execute_result"
    }
   ],
   "source": [
    "df = df_raw.dropna()\n",
    "df.head()"
   ]
  },
  {
   "cell_type": "code",
   "execution_count": 20,
   "metadata": {},
   "outputs": [
    {
     "data": {
      "text/plain": [
       "(593, 760)"
      ]
     },
     "execution_count": 20,
     "metadata": {},
     "output_type": "execute_result"
    }
   ],
   "source": [
    "len(df),len(df_raw)"
   ]
  },
  {
   "cell_type": "markdown",
   "metadata": {},
   "source": [
    "## Check out the unique values for each column to avoid mistakes and typos"
   ]
  },
  {
   "cell_type": "code",
   "execution_count": 21,
   "metadata": {},
   "outputs": [
    {
     "name": "stdout",
     "output_type": "stream",
     "text": [
      "['Partially Meets' 'Meets' 'Not Met' 'Approaching' 'Exceeds']\n",
      "['\\xa0Approaching' '\\xa0Partially Meets' '\\xa0Meets' '\\xa0DNY Meet'\n",
      " '\\xa0Exceeds']\n",
      "['Partially Meets' 'Approaching' 'Not Met' 'Meets' 'Exceeds']\n",
      "['\\xa0Partially Meets' '\\xa0Approaching' '\\xa0Meets' '\\xa0DNY Meet'\n",
      " '\\xa0Exceeds']\n",
      "['Level 2' 'Level 3' 'Level 4' 'Level 1']\n",
      "['Level 2' 'Level 1' 'Level 4' 'Level 3']\n",
      "['Level 1' 'Level 3' 'Level 2' 'Level 4']\n",
      "['Level 1' 'Level 2' 'Level 3' 'Level 4']\n"
     ]
    }
   ],
   "source": [
    "print(df['2017-2018 Interim 1 ELA PARCC '].unique())\n",
    "print(df['2017-2018 Interim 2 ELA PARCC'].unique())\n",
    "print(df['2017-2018 Interim 1 Math PARCC'].unique())\n",
    "print(df['2017-2018 Interim 2 Math PARCC '].unique())\n",
    "print(df['2017-2018 ELA Literacy NWEA PARCC Prediction Cycle 1'].unique())\n",
    "print(df['2017-2018 ELA Literacy NWEA PARCC Prediction Cycle 2'].unique())\n",
    "print(df['2017-2018 Math NWEA PARCC Prediction Cycle 1'].unique())\n",
    "print(df['2017-2018 Math NWEA PARCC Prediction Cycle 2'].unique())"
   ]
  },
  {
   "cell_type": "markdown",
   "metadata": {},
   "source": [
    "## Transform categorical data to numerical data for further analysis "
   ]
  },
  {
   "cell_type": "code",
   "execution_count": 22,
   "metadata": {},
   "outputs": [
    {
     "name": "stderr",
     "output_type": "stream",
     "text": [
      "C:\\Users\\defoe\\AppData\\Local\\Continuum\\anaconda3\\lib\\site-packages\\ipykernel_launcher.py:2: SettingWithCopyWarning: \n",
      "A value is trying to be set on a copy of a slice from a DataFrame.\n",
      "Try using .loc[row_indexer,col_indexer] = value instead\n",
      "\n",
      "See the caveats in the documentation: http://pandas.pydata.org/pandas-docs/stable/indexing.html#indexing-view-versus-copy\n",
      "  \n",
      "C:\\Users\\defoe\\AppData\\Local\\Continuum\\anaconda3\\lib\\site-packages\\ipykernel_launcher.py:4: SettingWithCopyWarning: \n",
      "A value is trying to be set on a copy of a slice from a DataFrame.\n",
      "Try using .loc[row_indexer,col_indexer] = value instead\n",
      "\n",
      "See the caveats in the documentation: http://pandas.pydata.org/pandas-docs/stable/indexing.html#indexing-view-versus-copy\n",
      "  after removing the cwd from sys.path.\n",
      "C:\\Users\\defoe\\AppData\\Local\\Continuum\\anaconda3\\lib\\site-packages\\ipykernel_launcher.py:6: SettingWithCopyWarning: \n",
      "A value is trying to be set on a copy of a slice from a DataFrame.\n",
      "Try using .loc[row_indexer,col_indexer] = value instead\n",
      "\n",
      "See the caveats in the documentation: http://pandas.pydata.org/pandas-docs/stable/indexing.html#indexing-view-versus-copy\n",
      "  \n",
      "C:\\Users\\defoe\\AppData\\Local\\Continuum\\anaconda3\\lib\\site-packages\\ipykernel_launcher.py:8: SettingWithCopyWarning: \n",
      "A value is trying to be set on a copy of a slice from a DataFrame.\n",
      "Try using .loc[row_indexer,col_indexer] = value instead\n",
      "\n",
      "See the caveats in the documentation: http://pandas.pydata.org/pandas-docs/stable/indexing.html#indexing-view-versus-copy\n",
      "  \n"
     ]
    }
   ],
   "source": [
    "df['2017-2018 Interim 1 ELA PARCC '] = df['2017-2018 Interim 1 ELA PARCC '].map({'Not Met':1,'Partially Meets':2,\n",
    "                                                                                 'Approaching':3,'Meets':4,'Exceeds':5})\n",
    "df['2017-2018 Interim 2 ELA PARCC'] = df['2017-2018 Interim 2 ELA PARCC'].map({'\\xa0DNY Meet':1,'\\xa0Partially Meets':2,\n",
    "                                                                                 '\\xa0Approaching':3,'\\xa0Meets':4,'\\xa0Exceeds':5})\n",
    "df['2017-2018 Interim 1 Math PARCC'] = df['2017-2018 Interim 1 Math PARCC'].map({'Not Met':1,'Partially Meets':2,\n",
    "                                                                                 'Approaching':3,'Meets':4,'Exceeds':5})\n",
    "df['2017-2018 Interim 2 Math PARCC '] = df['2017-2018 Interim 2 Math PARCC '].map({'\\xa0DNY Meet':1,'\\xa0Partially Meets':2,\n",
    "                                                                                 '\\xa0Approaching':3,'\\xa0Meets':4,'\\xa0Exceeds':5})"
   ]
  },
  {
   "cell_type": "code",
   "execution_count": 23,
   "metadata": {},
   "outputs": [
    {
     "name": "stderr",
     "output_type": "stream",
     "text": [
      "C:\\Users\\defoe\\AppData\\Local\\Continuum\\anaconda3\\lib\\site-packages\\ipykernel_launcher.py:4: SettingWithCopyWarning: \n",
      "A value is trying to be set on a copy of a slice from a DataFrame.\n",
      "Try using .loc[row_indexer,col_indexer] = value instead\n",
      "\n",
      "See the caveats in the documentation: http://pandas.pydata.org/pandas-docs/stable/indexing.html#indexing-view-versus-copy\n",
      "  after removing the cwd from sys.path.\n",
      "C:\\Users\\defoe\\AppData\\Local\\Continuum\\anaconda3\\lib\\site-packages\\ipykernel_launcher.py:8: SettingWithCopyWarning: \n",
      "A value is trying to be set on a copy of a slice from a DataFrame.\n",
      "Try using .loc[row_indexer,col_indexer] = value instead\n",
      "\n",
      "See the caveats in the documentation: http://pandas.pydata.org/pandas-docs/stable/indexing.html#indexing-view-versus-copy\n",
      "  \n",
      "C:\\Users\\defoe\\AppData\\Local\\Continuum\\anaconda3\\lib\\site-packages\\ipykernel_launcher.py:12: SettingWithCopyWarning: \n",
      "A value is trying to be set on a copy of a slice from a DataFrame.\n",
      "Try using .loc[row_indexer,col_indexer] = value instead\n",
      "\n",
      "See the caveats in the documentation: http://pandas.pydata.org/pandas-docs/stable/indexing.html#indexing-view-versus-copy\n",
      "  if sys.path[0] == '':\n",
      "C:\\Users\\defoe\\AppData\\Local\\Continuum\\anaconda3\\lib\\site-packages\\ipykernel_launcher.py:16: SettingWithCopyWarning: \n",
      "A value is trying to be set on a copy of a slice from a DataFrame.\n",
      "Try using .loc[row_indexer,col_indexer] = value instead\n",
      "\n",
      "See the caveats in the documentation: http://pandas.pydata.org/pandas-docs/stable/indexing.html#indexing-view-versus-copy\n",
      "  app.launch_new_instance()\n"
     ]
    }
   ],
   "source": [
    "df['2017-2018 ELA Literacy NWEA PARCC Prediction Cycle 1'] = df['2017-2018 ELA Literacy NWEA PARCC Prediction Cycle 1'].map({'Level 1':1,\n",
    "                                                                                                                            'Level 2':2,\n",
    "                                                                                                                            'Level 3':3,\n",
    "                                                                                                                            'Level 4':4})\n",
    "df['2017-2018 ELA Literacy NWEA PARCC Prediction Cycle 2'] = df['2017-2018 ELA Literacy NWEA PARCC Prediction Cycle 2'].map({'Level 1':1,\n",
    "                                                                                                                            'Level 2':2,\n",
    "                                                                                                                            'Level 3':3,\n",
    "                                                                                                                            'Level 4':4})\n",
    "df['2017-2018 Math NWEA PARCC Prediction Cycle 1'] = df['2017-2018 Math NWEA PARCC Prediction Cycle 1'].map({'Level 1':1,\n",
    "                                                                                                            'Level 2':2,\n",
    "                                                                                                            'Level 3':3,\n",
    "                                                                                                            'Level 4':4})\n",
    "df['2017-2018 Math NWEA PARCC Prediction Cycle 2'] = df['2017-2018 Math NWEA PARCC Prediction Cycle 2'].map({'Level 1':1,\n",
    "                                                                                                            'Level 2':2,\n",
    "                                                                                                            'Level 3':3,\n",
    "                                                                                                            'Level 4':4})\n"
   ]
  },
  {
   "cell_type": "code",
   "execution_count": 24,
   "metadata": {},
   "outputs": [
    {
     "data": {
      "text/html": [
       "<div>\n",
       "<style scoped>\n",
       "    .dataframe tbody tr th:only-of-type {\n",
       "        vertical-align: middle;\n",
       "    }\n",
       "\n",
       "    .dataframe tbody tr th {\n",
       "        vertical-align: top;\n",
       "    }\n",
       "\n",
       "    .dataframe thead th {\n",
       "        text-align: right;\n",
       "    }\n",
       "</style>\n",
       "<table border=\"1\" class=\"dataframe\">\n",
       "  <thead>\n",
       "    <tr style=\"text-align: right;\">\n",
       "      <th></th>\n",
       "      <th>2017-2018 Interim 1 ELA PARCC</th>\n",
       "      <th>2017-2018 Interim 2 ELA PARCC</th>\n",
       "      <th>2017-2018 Interim 1 Math PARCC</th>\n",
       "      <th>2017-2018 Interim 2 Math PARCC</th>\n",
       "      <th>2017-2018 ELA Literacy NWEA PARCC Prediction Cycle 1</th>\n",
       "      <th>2017-2018 ELA Literacy NWEA PARCC Prediction Cycle 2</th>\n",
       "      <th>2017-2018 Math NWEA PARCC Prediction Cycle 1</th>\n",
       "      <th>2017-2018 Math NWEA PARCC Prediction Cycle 2</th>\n",
       "    </tr>\n",
       "  </thead>\n",
       "  <tbody>\n",
       "    <tr>\n",
       "      <th>1</th>\n",
       "      <td>2</td>\n",
       "      <td>3</td>\n",
       "      <td>2</td>\n",
       "      <td>2</td>\n",
       "      <td>2</td>\n",
       "      <td>2</td>\n",
       "      <td>1</td>\n",
       "      <td>1</td>\n",
       "    </tr>\n",
       "    <tr>\n",
       "      <th>2</th>\n",
       "      <td>4</td>\n",
       "      <td>3</td>\n",
       "      <td>3</td>\n",
       "      <td>2</td>\n",
       "      <td>2</td>\n",
       "      <td>2</td>\n",
       "      <td>3</td>\n",
       "      <td>2</td>\n",
       "    </tr>\n",
       "    <tr>\n",
       "      <th>3</th>\n",
       "      <td>1</td>\n",
       "      <td>2</td>\n",
       "      <td>1</td>\n",
       "      <td>2</td>\n",
       "      <td>2</td>\n",
       "      <td>1</td>\n",
       "      <td>2</td>\n",
       "      <td>1</td>\n",
       "    </tr>\n",
       "    <tr>\n",
       "      <th>4</th>\n",
       "      <td>2</td>\n",
       "      <td>3</td>\n",
       "      <td>1</td>\n",
       "      <td>3</td>\n",
       "      <td>2</td>\n",
       "      <td>1</td>\n",
       "      <td>2</td>\n",
       "      <td>1</td>\n",
       "    </tr>\n",
       "    <tr>\n",
       "      <th>5</th>\n",
       "      <td>3</td>\n",
       "      <td>3</td>\n",
       "      <td>1</td>\n",
       "      <td>2</td>\n",
       "      <td>3</td>\n",
       "      <td>4</td>\n",
       "      <td>3</td>\n",
       "      <td>3</td>\n",
       "    </tr>\n",
       "  </tbody>\n",
       "</table>\n",
       "</div>"
      ],
      "text/plain": [
       "   2017-2018 Interim 1 ELA PARCC   2017-2018 Interim 2 ELA PARCC  \\\n",
       "1                               2                              3   \n",
       "2                               4                              3   \n",
       "3                               1                              2   \n",
       "4                               2                              3   \n",
       "5                               3                              3   \n",
       "\n",
       "   2017-2018 Interim 1 Math PARCC  2017-2018 Interim 2 Math PARCC   \\\n",
       "1                               2                                2   \n",
       "2                               3                                2   \n",
       "3                               1                                2   \n",
       "4                               1                                3   \n",
       "5                               1                                2   \n",
       "\n",
       "   2017-2018 ELA Literacy NWEA PARCC Prediction Cycle 1  \\\n",
       "1                                                  2      \n",
       "2                                                  2      \n",
       "3                                                  2      \n",
       "4                                                  2      \n",
       "5                                                  3      \n",
       "\n",
       "   2017-2018 ELA Literacy NWEA PARCC Prediction Cycle 2  \\\n",
       "1                                                  2      \n",
       "2                                                  2      \n",
       "3                                                  1      \n",
       "4                                                  1      \n",
       "5                                                  4      \n",
       "\n",
       "   2017-2018 Math NWEA PARCC Prediction Cycle 1  \\\n",
       "1                                             1   \n",
       "2                                             3   \n",
       "3                                             2   \n",
       "4                                             2   \n",
       "5                                             3   \n",
       "\n",
       "   2017-2018 Math NWEA PARCC Prediction Cycle 2  \n",
       "1                                             1  \n",
       "2                                             2  \n",
       "3                                             1  \n",
       "4                                             1  \n",
       "5                                             3  "
      ]
     },
     "execution_count": 24,
     "metadata": {},
     "output_type": "execute_result"
    }
   ],
   "source": [
    "df.head()"
   ]
  },
  {
   "cell_type": "markdown",
   "metadata": {},
   "source": [
    "## Plot frequency of levels for each test  "
   ]
  },
  {
   "cell_type": "code",
   "execution_count": 39,
   "metadata": {},
   "outputs": [
    {
     "data": {
      "text/plain": [
       "<matplotlib.axes._subplots.AxesSubplot at 0x1d2b01ef828>"
      ]
     },
     "execution_count": 39,
     "metadata": {},
     "output_type": "execute_result"
    },
    {
     "data": {
      "image/png": "[encoded data removed]",
      "text/plain": [
       "<Figure size 432x288 with 1 Axes>"
      ]
     },
     "metadata": {},
     "output_type": "display_data"
    }
   ],
   "source": [
    "import seaborn as sns\n",
    "sns.set(style='whitegrid')\n",
    "sns.countplot(df['2017-2018 Interim 1 ELA PARCC '])"
   ]
  },
  {
   "cell_type": "code",
   "execution_count": 40,
   "metadata": {},
   "outputs": [
    {
     "data": {
      "text/plain": [
       "<matplotlib.axes._subplots.AxesSubplot at 0x1d2b0472860>"
      ]
     },
     "execution_count": 40,
     "metadata": {},
     "output_type": "execute_result"
    },
    {
     "data": {
      "image/png": "[encoded data removed]",
      "text/plain": [
       "<Figure size 432x288 with 1 Axes>"
      ]
     },
     "metadata": {},
     "output_type": "display_data"
    }
   ],
   "source": [
    "sns.countplot(df['2017-2018 Interim 2 ELA PARCC'])"
   ]
  },
  {
   "cell_type": "code",
   "execution_count": 41,
   "metadata": {},
   "outputs": [
    {
     "data": {
      "text/plain": [
       "<matplotlib.axes._subplots.AxesSubplot at 0x1d2b073e278>"
      ]
     },
     "execution_count": 41,
     "metadata": {},
     "output_type": "execute_result"
    },
    {
     "data": {
      "image/png": "[encoded data removed]",
      "text/plain": [
       "<Figure size 432x288 with 1 Axes>"
      ]
     },
     "metadata": {},
     "output_type": "display_data"
    }
   ],
   "source": [
    "sns.countplot(df['2017-2018 Interim 1 Math PARCC'])"
   ]
  },
  {
   "cell_type": "code",
   "execution_count": 42,
   "metadata": {},
   "outputs": [
    {
     "data": {
      "text/plain": [
       "<matplotlib.axes._subplots.AxesSubplot at 0x1d2b0cd3438>"
      ]
     },
     "execution_count": 42,
     "metadata": {},
     "output_type": "execute_result"
    },
    {
     "data": {
      "image/png": "[encoded data removed]",
      "text/plain": [
       "<Figure size 432x288 with 1 Axes>"
      ]
     },
     "metadata": {},
     "output_type": "display_data"
    }
   ],
   "source": [
    "sns.countplot(df['2017-2018 Interim 2 Math PARCC '])"
   ]
  },
  {
   "cell_type": "code",
   "execution_count": 43,
   "metadata": {},
   "outputs": [
    {
     "data": {
      "text/plain": [
       "<matplotlib.axes._subplots.AxesSubplot at 0x1d2b0e42400>"
      ]
     },
     "execution_count": 43,
     "metadata": {},
     "output_type": "execute_result"
    },
    {
     "data": {
      "image/png": "[encoded data removed]",
      "text/plain": [
       "<Figure size 432x288 with 1 Axes>"
      ]
     },
     "metadata": {},
     "output_type": "display_data"
    }
   ],
   "source": [
    "sns.countplot(df['2017-2018 ELA Literacy NWEA PARCC Prediction Cycle 1'])"
   ]
  },
  {
   "cell_type": "code",
   "execution_count": 44,
   "metadata": {},
   "outputs": [
    {
     "data": {
      "text/plain": [
       "<matplotlib.axes._subplots.AxesSubplot at 0x1d2b101a908>"
      ]
     },
     "execution_count": 44,
     "metadata": {},
     "output_type": "execute_result"
    },
    {
     "data": {
      "image/png": "[encoded data removed]",
      "text/plain": [
       "<Figure size 432x288 with 1 Axes>"
      ]
     },
     "metadata": {},
     "output_type": "display_data"
    }
   ],
   "source": [
    "sns.countplot(df['2017-2018 ELA Literacy NWEA PARCC Prediction Cycle 2'])"
   ]
  },
  {
   "cell_type": "code",
   "execution_count": 45,
   "metadata": {},
   "outputs": [
    {
     "data": {
      "text/plain": [
       "<matplotlib.axes._subplots.AxesSubplot at 0x1d2b036c5c0>"
      ]
     },
     "execution_count": 45,
     "metadata": {},
     "output_type": "execute_result"
    },
    {
     "data": {
      "image/png": "[encoded data removed]",
      "text/plain": [
       "<Figure size 432x288 with 1 Axes>"
      ]
     },
     "metadata": {},
     "output_type": "display_data"
    }
   ],
   "source": [
    "sns.countplot(df['2017-2018 Math NWEA PARCC Prediction Cycle 1'])"
   ]
  },
  {
   "cell_type": "code",
   "execution_count": 46,
   "metadata": {},
   "outputs": [
    {
     "data": {
      "text/plain": [
       "<matplotlib.axes._subplots.AxesSubplot at 0x1d2b068fb70>"
      ]
     },
     "execution_count": 46,
     "metadata": {},
     "output_type": "execute_result"
    },
    {
     "data": {
      "image/png": "[encoded data removed]",
      "text/plain": [
       "<Figure size 432x288 with 1 Axes>"
      ]
     },
     "metadata": {},
     "output_type": "display_data"
    }
   ],
   "source": [
    "sns.countplot(df['2017-2018 Math NWEA PARCC Prediction Cycle 2'])"
   ]
  },
  {
   "cell_type": "markdown",
   "metadata": {},
   "source": [
    "## Hypothesis test"
   ]
  },
  {
   "cell_type": "code",
   "execution_count": 47,
   "metadata": {},
   "outputs": [
    {
     "data": {
      "text/html": [
       "<div>\n",
       "<style scoped>\n",
       "    .dataframe tbody tr th:only-of-type {\n",
       "        vertical-align: middle;\n",
       "    }\n",
       "\n",
       "    .dataframe tbody tr th {\n",
       "        vertical-align: top;\n",
       "    }\n",
       "\n",
       "    .dataframe thead th {\n",
       "        text-align: right;\n",
       "    }\n",
       "</style>\n",
       "<table border=\"1\" class=\"dataframe\">\n",
       "  <thead>\n",
       "    <tr style=\"text-align: right;\">\n",
       "      <th></th>\n",
       "      <th>2017-2018 Interim 1 ELA PARCC</th>\n",
       "      <th>2017-2018 Interim 2 ELA PARCC</th>\n",
       "      <th>2017-2018 Interim 1 Math PARCC</th>\n",
       "      <th>2017-2018 Interim 2 Math PARCC</th>\n",
       "      <th>2017-2018 ELA Literacy NWEA PARCC Prediction Cycle 1</th>\n",
       "      <th>2017-2018 ELA Literacy NWEA PARCC Prediction Cycle 2</th>\n",
       "      <th>2017-2018 Math NWEA PARCC Prediction Cycle 1</th>\n",
       "      <th>2017-2018 Math NWEA PARCC Prediction Cycle 2</th>\n",
       "    </tr>\n",
       "  </thead>\n",
       "  <tbody>\n",
       "    <tr>\n",
       "      <th>count</th>\n",
       "      <td>593.000000</td>\n",
       "      <td>593.000000</td>\n",
       "      <td>593.000000</td>\n",
       "      <td>593.000000</td>\n",
       "      <td>593.000000</td>\n",
       "      <td>593.000000</td>\n",
       "      <td>593.000000</td>\n",
       "      <td>593.000000</td>\n",
       "    </tr>\n",
       "    <tr>\n",
       "      <th>mean</th>\n",
       "      <td>2.301855</td>\n",
       "      <td>2.812816</td>\n",
       "      <td>2.661046</td>\n",
       "      <td>2.625632</td>\n",
       "      <td>2.222597</td>\n",
       "      <td>2.252951</td>\n",
       "      <td>2.217538</td>\n",
       "      <td>2.111298</td>\n",
       "    </tr>\n",
       "    <tr>\n",
       "      <th>std</th>\n",
       "      <td>1.050232</td>\n",
       "      <td>1.101460</td>\n",
       "      <td>1.058165</td>\n",
       "      <td>1.017491</td>\n",
       "      <td>0.937774</td>\n",
       "      <td>0.949802</td>\n",
       "      <td>0.908795</td>\n",
       "      <td>0.882118</td>\n",
       "    </tr>\n",
       "    <tr>\n",
       "      <th>min</th>\n",
       "      <td>1.000000</td>\n",
       "      <td>1.000000</td>\n",
       "      <td>1.000000</td>\n",
       "      <td>1.000000</td>\n",
       "      <td>1.000000</td>\n",
       "      <td>1.000000</td>\n",
       "      <td>1.000000</td>\n",
       "      <td>1.000000</td>\n",
       "    </tr>\n",
       "    <tr>\n",
       "      <th>25%</th>\n",
       "      <td>1.000000</td>\n",
       "      <td>2.000000</td>\n",
       "      <td>2.000000</td>\n",
       "      <td>2.000000</td>\n",
       "      <td>1.000000</td>\n",
       "      <td>2.000000</td>\n",
       "      <td>1.000000</td>\n",
       "      <td>1.000000</td>\n",
       "    </tr>\n",
       "    <tr>\n",
       "      <th>50%</th>\n",
       "      <td>2.000000</td>\n",
       "      <td>3.000000</td>\n",
       "      <td>3.000000</td>\n",
       "      <td>3.000000</td>\n",
       "      <td>2.000000</td>\n",
       "      <td>2.000000</td>\n",
       "      <td>2.000000</td>\n",
       "      <td>2.000000</td>\n",
       "    </tr>\n",
       "    <tr>\n",
       "      <th>75%</th>\n",
       "      <td>3.000000</td>\n",
       "      <td>4.000000</td>\n",
       "      <td>4.000000</td>\n",
       "      <td>3.000000</td>\n",
       "      <td>3.000000</td>\n",
       "      <td>3.000000</td>\n",
       "      <td>3.000000</td>\n",
       "      <td>3.000000</td>\n",
       "    </tr>\n",
       "    <tr>\n",
       "      <th>max</th>\n",
       "      <td>5.000000</td>\n",
       "      <td>5.000000</td>\n",
       "      <td>5.000000</td>\n",
       "      <td>5.000000</td>\n",
       "      <td>4.000000</td>\n",
       "      <td>4.000000</td>\n",
       "      <td>4.000000</td>\n",
       "      <td>4.000000</td>\n",
       "    </tr>\n",
       "  </tbody>\n",
       "</table>\n",
       "</div>"
      ],
      "text/plain": [
       "       2017-2018 Interim 1 ELA PARCC   2017-2018 Interim 2 ELA PARCC  \\\n",
       "count                      593.000000                     593.000000   \n",
       "mean                         2.301855                       2.812816   \n",
       "std                          1.050232                       1.101460   \n",
       "min                          1.000000                       1.000000   \n",
       "25%                          1.000000                       2.000000   \n",
       "50%                          2.000000                       3.000000   \n",
       "75%                          3.000000                       4.000000   \n",
       "max                          5.000000                       5.000000   \n",
       "\n",
       "       2017-2018 Interim 1 Math PARCC  2017-2018 Interim 2 Math PARCC   \\\n",
       "count                      593.000000                       593.000000   \n",
       "mean                         2.661046                         2.625632   \n",
       "std                          1.058165                         1.017491   \n",
       "min                          1.000000                         1.000000   \n",
       "25%                          2.000000                         2.000000   \n",
       "50%                          3.000000                         3.000000   \n",
       "75%                          4.000000                         3.000000   \n",
       "max                          5.000000                         5.000000   \n",
       "\n",
       "       2017-2018 ELA Literacy NWEA PARCC Prediction Cycle 1  \\\n",
       "count                                         593.000000      \n",
       "mean                                            2.222597      \n",
       "std                                             0.937774      \n",
       "min                                             1.000000      \n",
       "25%                                             1.000000      \n",
       "50%                                             2.000000      \n",
       "75%                                             3.000000      \n",
       "max                                             4.000000      \n",
       "\n",
       "       2017-2018 ELA Literacy NWEA PARCC Prediction Cycle 2  \\\n",
       "count                                         593.000000      \n",
       "mean                                            2.252951      \n",
       "std                                             0.949802      \n",
       "min                                             1.000000      \n",
       "25%                                             2.000000      \n",
       "50%                                             2.000000      \n",
       "75%                                             3.000000      \n",
       "max                                             4.000000      \n",
       "\n",
       "       2017-2018 Math NWEA PARCC Prediction Cycle 1  \\\n",
       "count                                    593.000000   \n",
       "mean                                       2.217538   \n",
       "std                                        0.908795   \n",
       "min                                        1.000000   \n",
       "25%                                        1.000000   \n",
       "50%                                        2.000000   \n",
       "75%                                        3.000000   \n",
       "max                                        4.000000   \n",
       "\n",
       "       2017-2018 Math NWEA PARCC Prediction Cycle 2  \n",
       "count                                    593.000000  \n",
       "mean                                       2.111298  \n",
       "std                                        0.882118  \n",
       "min                                        1.000000  \n",
       "25%                                        1.000000  \n",
       "50%                                        2.000000  \n",
       "75%                                        3.000000  \n",
       "max                                        4.000000  "
      ]
     },
     "execution_count": 47,
     "metadata": {},
     "output_type": "execute_result"
    }
   ],
   "source": [
    "df.describe()"
   ]
  },
  {
   "cell_type": "markdown",
   "metadata": {},
   "source": [
    "## Normalize data set to make the values of every column in the range of 0 to 1"
   ]
  },
  {
   "cell_type": "code",
   "execution_count": 48,
   "metadata": {},
   "outputs": [
    {
     "name": "stderr",
     "output_type": "stream",
     "text": [
      "C:\\Users\\defoe\\AppData\\Local\\Continuum\\anaconda3\\lib\\site-packages\\ipykernel_launcher.py:1: SettingWithCopyWarning: \n",
      "A value is trying to be set on a copy of a slice from a DataFrame.\n",
      "Try using .loc[row_indexer,col_indexer] = value instead\n",
      "\n",
      "See the caveats in the documentation: http://pandas.pydata.org/pandas-docs/stable/indexing.html#indexing-view-versus-copy\n",
      "  \"\"\"Entry point for launching an IPython kernel.\n",
      "C:\\Users\\defoe\\AppData\\Local\\Continuum\\anaconda3\\lib\\site-packages\\ipykernel_launcher.py:2: SettingWithCopyWarning: \n",
      "A value is trying to be set on a copy of a slice from a DataFrame.\n",
      "Try using .loc[row_indexer,col_indexer] = value instead\n",
      "\n",
      "See the caveats in the documentation: http://pandas.pydata.org/pandas-docs/stable/indexing.html#indexing-view-versus-copy\n",
      "  \n",
      "C:\\Users\\defoe\\AppData\\Local\\Continuum\\anaconda3\\lib\\site-packages\\ipykernel_launcher.py:3: SettingWithCopyWarning: \n",
      "A value is trying to be set on a copy of a slice from a DataFrame.\n",
      "Try using .loc[row_indexer,col_indexer] = value instead\n",
      "\n",
      "See the caveats in the documentation: http://pandas.pydata.org/pandas-docs/stable/indexing.html#indexing-view-versus-copy\n",
      "  This is separate from the ipykernel package so we can avoid doing imports until\n",
      "C:\\Users\\defoe\\AppData\\Local\\Continuum\\anaconda3\\lib\\site-packages\\ipykernel_launcher.py:4: SettingWithCopyWarning: \n",
      "A value is trying to be set on a copy of a slice from a DataFrame.\n",
      "Try using .loc[row_indexer,col_indexer] = value instead\n",
      "\n",
      "See the caveats in the documentation: http://pandas.pydata.org/pandas-docs/stable/indexing.html#indexing-view-versus-copy\n",
      "  after removing the cwd from sys.path.\n",
      "C:\\Users\\defoe\\AppData\\Local\\Continuum\\anaconda3\\lib\\site-packages\\ipykernel_launcher.py:6: SettingWithCopyWarning: \n",
      "A value is trying to be set on a copy of a slice from a DataFrame.\n",
      "Try using .loc[row_indexer,col_indexer] = value instead\n",
      "\n",
      "See the caveats in the documentation: http://pandas.pydata.org/pandas-docs/stable/indexing.html#indexing-view-versus-copy\n",
      "  \n",
      "C:\\Users\\defoe\\AppData\\Local\\Continuum\\anaconda3\\lib\\site-packages\\ipykernel_launcher.py:7: SettingWithCopyWarning: \n",
      "A value is trying to be set on a copy of a slice from a DataFrame.\n",
      "Try using .loc[row_indexer,col_indexer] = value instead\n",
      "\n",
      "See the caveats in the documentation: http://pandas.pydata.org/pandas-docs/stable/indexing.html#indexing-view-versus-copy\n",
      "  import sys\n",
      "C:\\Users\\defoe\\AppData\\Local\\Continuum\\anaconda3\\lib\\site-packages\\ipykernel_launcher.py:8: SettingWithCopyWarning: \n",
      "A value is trying to be set on a copy of a slice from a DataFrame.\n",
      "Try using .loc[row_indexer,col_indexer] = value instead\n",
      "\n",
      "See the caveats in the documentation: http://pandas.pydata.org/pandas-docs/stable/indexing.html#indexing-view-versus-copy\n",
      "  \n",
      "C:\\Users\\defoe\\AppData\\Local\\Continuum\\anaconda3\\lib\\site-packages\\ipykernel_launcher.py:9: SettingWithCopyWarning: \n",
      "A value is trying to be set on a copy of a slice from a DataFrame.\n",
      "Try using .loc[row_indexer,col_indexer] = value instead\n",
      "\n",
      "See the caveats in the documentation: http://pandas.pydata.org/pandas-docs/stable/indexing.html#indexing-view-versus-copy\n",
      "  if __name__ == '__main__':\n"
     ]
    }
   ],
   "source": [
    "df['2017-2018 Interim 1 ELA PARCC '] = (df['2017-2018 Interim 1 ELA PARCC '] - 1)/4\n",
    "df['2017-2018 Interim 2 ELA PARCC'] = (df['2017-2018 Interim 2 ELA PARCC'] - 1)/4\n",
    "df['2017-2018 Interim 1 Math PARCC'] = (df['2017-2018 Interim 1 Math PARCC'] - 1)/4\n",
    "df['2017-2018 Interim 2 Math PARCC '] = (df['2017-2018 Interim 2 Math PARCC '] - 1)/4\n",
    "\n",
    "df['2017-2018 ELA Literacy NWEA PARCC Prediction Cycle 1'] = (df['2017-2018 ELA Literacy NWEA PARCC Prediction Cycle 1'] - 1)/3\n",
    "df['2017-2018 ELA Literacy NWEA PARCC Prediction Cycle 2'] = (df['2017-2018 ELA Literacy NWEA PARCC Prediction Cycle 2'] - 1)/3\n",
    "df['2017-2018 Math NWEA PARCC Prediction Cycle 1'] = (df['2017-2018 Math NWEA PARCC Prediction Cycle 1'] - 1)/3\n",
    "df['2017-2018 Math NWEA PARCC Prediction Cycle 2'] = (df['2017-2018 Math NWEA PARCC Prediction Cycle 2'] - 1)/3"
   ]
  },
  {
   "cell_type": "code",
   "execution_count": 51,
   "metadata": {},
   "outputs": [
    {
     "data": {
      "text/html": [
       "<div>\n",
       "<style scoped>\n",
       "    .dataframe tbody tr th:only-of-type {\n",
       "        vertical-align: middle;\n",
       "    }\n",
       "\n",
       "    .dataframe tbody tr th {\n",
       "        vertical-align: top;\n",
       "    }\n",
       "\n",
       "    .dataframe thead th {\n",
       "        text-align: right;\n",
       "    }\n",
       "</style>\n",
       "<table border=\"1\" class=\"dataframe\">\n",
       "  <thead>\n",
       "    <tr style=\"text-align: right;\">\n",
       "      <th></th>\n",
       "      <th>2017-2018 Interim 1 ELA PARCC</th>\n",
       "      <th>2017-2018 Interim 2 ELA PARCC</th>\n",
       "      <th>2017-2018 Interim 1 Math PARCC</th>\n",
       "      <th>2017-2018 Interim 2 Math PARCC</th>\n",
       "      <th>2017-2018 ELA Literacy NWEA PARCC Prediction Cycle 1</th>\n",
       "      <th>2017-2018 ELA Literacy NWEA PARCC Prediction Cycle 2</th>\n",
       "      <th>2017-2018 Math NWEA PARCC Prediction Cycle 1</th>\n",
       "      <th>2017-2018 Math NWEA PARCC Prediction Cycle 2</th>\n",
       "    </tr>\n",
       "  </thead>\n",
       "  <tbody>\n",
       "    <tr>\n",
       "      <th>1</th>\n",
       "      <td>0.25</td>\n",
       "      <td>0.50</td>\n",
       "      <td>0.25</td>\n",
       "      <td>0.25</td>\n",
       "      <td>0.333333</td>\n",
       "      <td>0.333333</td>\n",
       "      <td>0.000000</td>\n",
       "      <td>0.000000</td>\n",
       "    </tr>\n",
       "    <tr>\n",
       "      <th>2</th>\n",
       "      <td>0.75</td>\n",
       "      <td>0.50</td>\n",
       "      <td>0.50</td>\n",
       "      <td>0.25</td>\n",
       "      <td>0.333333</td>\n",
       "      <td>0.333333</td>\n",
       "      <td>0.666667</td>\n",
       "      <td>0.333333</td>\n",
       "    </tr>\n",
       "    <tr>\n",
       "      <th>3</th>\n",
       "      <td>0.00</td>\n",
       "      <td>0.25</td>\n",
       "      <td>0.00</td>\n",
       "      <td>0.25</td>\n",
       "      <td>0.333333</td>\n",
       "      <td>0.000000</td>\n",
       "      <td>0.333333</td>\n",
       "      <td>0.000000</td>\n",
       "    </tr>\n",
       "    <tr>\n",
       "      <th>4</th>\n",
       "      <td>0.25</td>\n",
       "      <td>0.50</td>\n",
       "      <td>0.00</td>\n",
       "      <td>0.50</td>\n",
       "      <td>0.333333</td>\n",
       "      <td>0.000000</td>\n",
       "      <td>0.333333</td>\n",
       "      <td>0.000000</td>\n",
       "    </tr>\n",
       "    <tr>\n",
       "      <th>5</th>\n",
       "      <td>0.50</td>\n",
       "      <td>0.50</td>\n",
       "      <td>0.00</td>\n",
       "      <td>0.25</td>\n",
       "      <td>0.666667</td>\n",
       "      <td>1.000000</td>\n",
       "      <td>0.666667</td>\n",
       "      <td>0.666667</td>\n",
       "    </tr>\n",
       "  </tbody>\n",
       "</table>\n",
       "</div>"
      ],
      "text/plain": [
       "   2017-2018 Interim 1 ELA PARCC   2017-2018 Interim 2 ELA PARCC  \\\n",
       "1                            0.25                           0.50   \n",
       "2                            0.75                           0.50   \n",
       "3                            0.00                           0.25   \n",
       "4                            0.25                           0.50   \n",
       "5                            0.50                           0.50   \n",
       "\n",
       "   2017-2018 Interim 1 Math PARCC  2017-2018 Interim 2 Math PARCC   \\\n",
       "1                            0.25                             0.25   \n",
       "2                            0.50                             0.25   \n",
       "3                            0.00                             0.25   \n",
       "4                            0.00                             0.50   \n",
       "5                            0.00                             0.25   \n",
       "\n",
       "   2017-2018 ELA Literacy NWEA PARCC Prediction Cycle 1  \\\n",
       "1                                           0.333333      \n",
       "2                                           0.333333      \n",
       "3                                           0.333333      \n",
       "4                                           0.333333      \n",
       "5                                           0.666667      \n",
       "\n",
       "   2017-2018 ELA Literacy NWEA PARCC Prediction Cycle 2  \\\n",
       "1                                           0.333333      \n",
       "2                                           0.333333      \n",
       "3                                           0.000000      \n",
       "4                                           0.000000      \n",
       "5                                           1.000000      \n",
       "\n",
       "   2017-2018 Math NWEA PARCC Prediction Cycle 1  \\\n",
       "1                                      0.000000   \n",
       "2                                      0.666667   \n",
       "3                                      0.333333   \n",
       "4                                      0.333333   \n",
       "5                                      0.666667   \n",
       "\n",
       "   2017-2018 Math NWEA PARCC Prediction Cycle 2  \n",
       "1                                      0.000000  \n",
       "2                                      0.333333  \n",
       "3                                      0.000000  \n",
       "4                                      0.000000  \n",
       "5                                      0.666667  "
      ]
     },
     "execution_count": 51,
     "metadata": {},
     "output_type": "execute_result"
    }
   ],
   "source": [
    "df.head()"
   ]
  },
  {
   "cell_type": "markdown",
   "metadata": {},
   "source": [
    "## Calculate the fluctuation of each test on each subject"
   ]
  },
  {
   "cell_type": "code",
   "execution_count": 56,
   "metadata": {},
   "outputs": [],
   "source": [
    "ela_diff_PARCC = abs(df['2017-2018 Interim 1 ELA PARCC '] - df['2017-2018 Interim 2 ELA PARCC'])\n",
    "math_diff_PARCC = abs(df['2017-2018 Interim 1 Math PARCC'] - df['2017-2018 Interim 2 Math PARCC '])\n",
    "ela_diff_NWEA = abs(df['2017-2018 ELA Literacy NWEA PARCC Prediction Cycle 1'] - df['2017-2018 ELA Literacy NWEA PARCC Prediction Cycle 2'])\n",
    "math_diff_NWEA = abs(df['2017-2018 Math NWEA PARCC Prediction Cycle 1'] - df['2017-2018 Math NWEA PARCC Prediction Cycle 2'])"
   ]
  },
  {
   "cell_type": "markdown",
   "metadata": {},
   "source": [
    "## Compare the fluctuation between two types of tests on each subject"
   ]
  },
  {
   "cell_type": "code",
   "execution_count": 57,
   "metadata": {},
   "outputs": [],
   "source": [
    "ela_PARCC_NWEA = ela_diff_PARCC - ela_diff_NWEA\n",
    "math_PARCC_NWEA = math_diff_PARCC - math_diff_NWEA"
   ]
  },
  {
   "cell_type": "code",
   "execution_count": 59,
   "metadata": {},
   "outputs": [
    {
     "data": {
      "text/plain": [
       "0.10441259134345104"
      ]
     },
     "execution_count": 59,
     "metadata": {},
     "output_type": "execute_result"
    }
   ],
   "source": [
    "ela_PARCC_NWEA.mean()"
   ]
  },
  {
   "cell_type": "code",
   "execution_count": 66,
   "metadata": {},
   "outputs": [],
   "source": [
    "import statsmodels.stats.weightstats"
   ]
  },
  {
   "cell_type": "code",
   "execution_count": 67,
   "metadata": {},
   "outputs": [
    {
     "data": {
      "text/plain": [
       "(9.128267170781115, 6.960442817377285e-20)"
      ]
     },
     "execution_count": 67,
     "metadata": {},
     "output_type": "execute_result"
    }
   ],
   "source": [
    "statsmodels.stats.weightstats.ztest(ela_PARCC_NWEA, value=0, alternative='two-sided', usevar='pooled', ddof=1.0)"
   ]
  },
  {
   "cell_type": "code",
   "execution_count": 68,
   "metadata": {},
   "outputs": [
    {
     "data": {
      "text/plain": [
       "(3.4356940762601336, 0.0005910379639539968)"
      ]
     },
     "execution_count": 68,
     "metadata": {},
     "output_type": "execute_result"
    }
   ],
   "source": [
    "statsmodels.stats.weightstats.ztest(math_PARCC_NWEA, value=0, alternative='two-sided', usevar='pooled', ddof=1.0)"
   ]
  },
  {
   "cell_type": "code",
   "execution_count": 77,
   "metadata": {},
   "outputs": [
    {
     "data": {
      "text/plain": [
       "(-0.981950886851135, 0.3261240444592023)"
      ]
     },
     "execution_count": 77,
     "metadata": {},
     "output_type": "execute_result"
    }
   ],
   "source": [
    "statsmodels.stats.weightstats.ztest(df['2017-2018 ELA Literacy NWEA PARCC Prediction Cycle 1'] - df['2017-2018 ELA Literacy NWEA PARCC Prediction Cycle 2'], value=0, alternative='two-sided', usevar='pooled', ddof=1.0)"
   ]
  },
  {
   "cell_type": "code",
   "execution_count": 78,
   "metadata": {},
   "outputs": [
    {
     "data": {
      "text/plain": [
       "(0.904395163074035, 0.3657859020598979)"
      ]
     },
     "execution_count": 78,
     "metadata": {},
     "output_type": "execute_result"
    }
   ],
   "source": [
    "statsmodels.stats.weightstats.ztest(df['2017-2018 Interim 1 Math PARCC'] - df['2017-2018 Interim 2 Math PARCC '], value=0, alternative='two-sided', usevar='pooled', ddof=1.0)"
   ]
  },
  {
   "cell_type": "code",
   "execution_count": 79,
   "metadata": {},
   "outputs": [
    {
     "data": {
      "text/plain": [
       "(-9.991081829953352, 1.6675179951839345e-23)"
      ]
     },
     "execution_count": 79,
     "metadata": {},
     "output_type": "execute_result"
    }
   ],
   "source": [
    "statsmodels.stats.weightstats.ztest(df['2017-2018 Interim 1 ELA PARCC '] - df['2017-2018 Interim 2 ELA PARCC'], value=0, alternative='two-sided', usevar='pooled', ddof=1.0)"
   ]
  },
  {
   "cell_type": "code",
   "execution_count": 80,
   "metadata": {},
   "outputs": [
    {
     "data": {
      "text/plain": [
       "(3.9472530796934215, 7.90529802520884e-05)"
      ]
     },
     "execution_count": 80,
     "metadata": {},
     "output_type": "execute_result"
    }
   ],
   "source": [
    "statsmodels.stats.weightstats.ztest(df['2017-2018 Math NWEA PARCC Prediction Cycle 1'] - df['2017-2018 Math NWEA PARCC Prediction Cycle 2'], value=0, alternative='two-sided', usevar='pooled', ddof=1.0)"
   ]
  },
  {
   "cell_type": "code",
   "execution_count": null,
   "metadata": {},
   "outputs": [],
   "source": []
  }
 ],
 "metadata": {
  "kernelspec": {
   "display_name": "Python 3",
   "language": "python",
   "name": "python3"
  },
  "language_info": {
   "codemirror_mode": {
    "name": "ipython",
    "version": 3
   },
   "file_extension": ".py",
   "mimetype": "text/x-python",
   "name": "python",
   "nbconvert_exporter": "python",
   "pygments_lexer": "ipython3",
   "version": "3.7.3"
  }
 },
 "nbformat": 4,
 "nbformat_minor": 2
}
